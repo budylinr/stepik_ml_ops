{
 "cells": [
  {
   "cell_type": "code",
   "execution_count": 1,
   "id": "7372b8ad-d642-4bdf-8cd5-2517548e35fa",
   "metadata": {},
   "outputs": [
    {
     "name": "stdout",
     "output_type": "stream",
     "text": [
      "150 <class 'pandas.core.frame.DataFrame'> 150 <class 'pandas.core.series.Series'>\n",
      "     sepal length (cm)  sepal width (cm)  petal length (cm)  petal width (cm)\n",
      "0                  5.1               3.5                1.4               0.2\n",
      "1                  4.9               3.0                1.4               0.2\n",
      "2                  4.7               3.2                1.3               0.2\n",
      "3                  4.6               3.1                1.5               0.2\n",
      "4                  5.0               3.6                1.4               0.2\n",
      "..                 ...               ...                ...               ...\n",
      "145                6.7               3.0                5.2               2.3\n",
      "146                6.3               2.5                5.0               1.9\n",
      "147                6.5               3.0                5.2               2.0\n",
      "148                6.2               3.4                5.4               2.3\n",
      "149                5.9               3.0                5.1               1.8\n",
      "\n",
      "[150 rows x 4 columns]\n",
      "     accuracy        f1\n",
      "rf       0.96  0.962626\n",
      "lr       0.98  0.981495\n",
      "knn      0.98  0.981098\n"
     ]
    }
   ],
   "source": [
    "from sklearn.datasets import load_iris\n",
    "from sklearn.ensemble import RandomForestClassifier\n",
    "from sklearn.linear_model import LogisticRegression\n",
    "from sklearn.neighbors import KNeighborsClassifier\n",
    "from sklearn.model_selection import train_test_split\n",
    "from sklearn.metrics import f1_score, accuracy_score\n",
    "import pandas as pd\n",
    "import pickle\n",
    "\n",
    "data, target = load_iris(return_X_y=True, as_frame=True)\n",
    "\n",
    "print(len(data), type(data), len(target), type(target))\n",
    "print(data)\n",
    "\n",
    "models = {\n",
    "    \"rf\": RandomForestClassifier(n_estimators=100, max_depth=10),\n",
    "    \"lr\": LogisticRegression(),\n",
    "    \"knn\": KNeighborsClassifier(n_neighbors=3),\n",
    "}\n",
    "\n",
    "train_x, test_x, train_y, test_y = train_test_split(data, target, test_size = 0.33, random_state=17)\n",
    "\n",
    "list_metrics = []\n",
    "\n",
    "for model in models:\n",
    "    metrics = {}\n",
    "    models[model].fit(train_x, train_y)\n",
    "    pred = models[model].predict(test_x)\n",
    "    metrics['accuracy'] = accuracy_score(test_y, pred)\n",
    "    metrics['f1'] = f1_score(test_y, pred, average='macro')\n",
    "    list_metrics.append(metrics)\n",
    "\n",
    "metrics_df =pd.DataFrame(list_metrics, index=models.keys())\n",
    "print(metrics_df)\n",
    "\n",
    "data.to_csv('/opt/airflow/shared/iris_x.csv', index=False)\n",
    "target.to_csv('/opt/airflow/shared/iris_y.csv', index=False)\n",
    "\n",
    "for model in models:\n",
    "    fname = f'{model}.pickle'\n",
    "    with open(fname, 'wb') as f:\n",
    "        pickle.dump(models[model], f)"
   ]
  }
 ],
 "metadata": {
  "kernelspec": {
   "display_name": "Python 3 (ipykernel)",
   "language": "python",
   "name": "python3"
  },
  "language_info": {
   "codemirror_mode": {
    "name": "ipython",
    "version": 3
   },
   "file_extension": ".py",
   "mimetype": "text/x-python",
   "name": "python",
   "nbconvert_exporter": "python",
   "pygments_lexer": "ipython3",
   "version": "3.12.3"
  }
 },
 "nbformat": 4,
 "nbformat_minor": 5
}
