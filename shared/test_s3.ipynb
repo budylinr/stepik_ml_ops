{
 "cells": [
  {
   "cell_type": "code",
   "execution_count": 1,
   "id": "bf840fb1-753d-4445-84b5-d0053976f59a",
   "metadata": {},
   "outputs": [],
   "source": [
    "#!/usr/bin/env python\n",
    "#-*- coding: utf-8 -*-\n",
    "import boto3"
   ]
  },
  {
   "cell_type": "code",
   "execution_count": 2,
   "id": "567b8acd-ed8b-429a-b853-e31bd7d8f8fb",
   "metadata": {},
   "outputs": [],
   "source": [
    "session = boto3.session.Session()\n",
    "s3 = session.client(\n",
    "    service_name='s3',\n",
    "    endpoint_url='https://storage.yandexcloud.net'\n",
    ")"
   ]
  },
  {
   "cell_type": "code",
   "execution_count": 7,
   "id": "00fb9e1b-b5ee-4707-bc5a-6dc95ae95e28",
   "metadata": {},
   "outputs": [
    {
     "data": {
      "text/plain": [
       "{'ResponseMetadata': {'RequestId': 'da199d8c1e40f67d',\n",
       "  'HostId': '',\n",
       "  'HTTPStatusCode': 204,\n",
       "  'HTTPHeaders': {'server': 'nginx',\n",
       "   'date': 'Sat, 18 May 2024 22:53:48 GMT',\n",
       "   'content-type': 'application/octet-stream',\n",
       "   'connection': 'keep-alive',\n",
       "   'keep-alive': 'timeout=60',\n",
       "   'x-amz-request-id': 'da199d8c1e40f67d'},\n",
       "  'RetryAttempts': 0}}"
      ]
     },
     "execution_count": 7,
     "metadata": {},
     "output_type": "execute_result"
    }
   ],
   "source": [
    "# Создать новый бакет\n",
    "s3.delete_bucket(Bucket='ryabudylin-test-bucket')"
   ]
  },
  {
   "cell_type": "code",
   "execution_count": 8,
   "id": "86ca3c1f-a9de-4e3e-a49c-6499d70b1ddc",
   "metadata": {},
   "outputs": [
    {
     "data": {
      "text/plain": [
       "{'ResponseMetadata': {'RequestId': '9892eda0c938c90b',\n",
       "  'HostId': '',\n",
       "  'HTTPStatusCode': 200,\n",
       "  'HTTPHeaders': {'server': 'nginx',\n",
       "   'date': 'Sat, 18 May 2024 22:54:53 GMT',\n",
       "   'content-type': 'application/octet-stream',\n",
       "   'transfer-encoding': 'chunked',\n",
       "   'connection': 'keep-alive',\n",
       "   'keep-alive': 'timeout=60',\n",
       "   'etag': '\"033bd94b1168d7e4f0d644c3c95e35bf\"',\n",
       "   'x-amz-request-id': '9892eda0c938c90b',\n",
       "   'x-amz-storage-class': 'COLD'},\n",
       "  'RetryAttempts': 0},\n",
       " 'ETag': '\"033bd94b1168d7e4f0d644c3c95e35bf\"'}"
      ]
     },
     "execution_count": 8,
     "metadata": {},
     "output_type": "execute_result"
    }
   ],
   "source": [
    "# Загрузить объекты в бакет\n",
    "\n",
    "## Из строки\n",
    "s3.put_object(Bucket='ryabudylin-stepik-ml-ops', Key='from_string_object', Body='TEST', StorageClass='COLD')"
   ]
  },
  {
   "cell_type": "code",
   "execution_count": 11,
   "id": "cfc716e6-db7d-4096-b764-c63e4ab01d8f",
   "metadata": {},
   "outputs": [],
   "source": [
    "## Из файла\n",
    "s3.upload_file('rf.pickle', 'ryabudylin-stepik-ml-ops', 'rf.pickle')\n",
    "s3.upload_file('lr.pickle', 'ryabudylin-stepik-ml-ops', 'lr.pickle')"
   ]
  },
  {
   "cell_type": "code",
   "execution_count": 3,
   "id": "52ce89cd-227d-4cde-9844-1a5f5760d9d5",
   "metadata": {},
   "outputs": [
    {
     "name": "stdout",
     "output_type": "stream",
     "text": [
      "iris_x.csv\n",
      "iris_y.csv\n"
     ]
    }
   ],
   "source": [
    "# Получить список объектов в бакете\n",
    "for key in s3.list_objects(Bucket='ryabudylin-stepik-ml-ops')['Contents']:\n",
    "    print(key['Key'])"
   ]
  },
  {
   "cell_type": "code",
   "execution_count": 12,
   "id": "7facbfeb-d32f-4a43-a796-ac045266e0dd",
   "metadata": {},
   "outputs": [],
   "source": [
    "# Удалить несколько объектов\n",
    "forDeletion = [{'Key':'rf.pickle'}, {'Key':'lr.pickle'}]\n",
    "response = s3.delete_objects(Bucket='ryabudylin-stepik-ml-ops', Delete={'Objects': forDeletion})"
   ]
  },
  {
   "cell_type": "code",
   "execution_count": 16,
   "id": "efc9d4e5-8121-40b5-a9f0-f84e8f8a271f",
   "metadata": {},
   "outputs": [],
   "source": [
    "# Получить объект\n",
    "get_object_response = s3.get_object(Bucket='ryabudylin-stepik-ml-ops',Key='iris_x.csv')\n",
    "x = get_object_response['Body'].read()"
   ]
  },
  {
   "cell_type": "code",
   "execution_count": 15,
   "id": "3dd6c045-5683-4280-870f-e7f2185c77ec",
   "metadata": {},
   "outputs": [],
   "source": [
    "with open('iris_x2.csv', 'wb') as f:\n",
    "    f.write(x)"
   ]
  }
 ],
 "metadata": {
  "kernelspec": {
   "display_name": "Python 3 (ipykernel)",
   "language": "python",
   "name": "python3"
  },
  "language_info": {
   "codemirror_mode": {
    "name": "ipython",
    "version": 3
   },
   "file_extension": ".py",
   "mimetype": "text/x-python",
   "name": "python",
   "nbconvert_exporter": "python",
   "pygments_lexer": "ipython3",
   "version": "3.12.3"
  }
 },
 "nbformat": 4,
 "nbformat_minor": 5
}
